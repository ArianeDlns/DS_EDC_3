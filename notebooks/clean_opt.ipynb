{
 "cells": [
  {
   "cell_type": "markdown",
   "metadata": {},
   "source": [
    "# EDC 3: Ekimetrics - AI for Sustainability"
   ]
  },
  {
   "cell_type": "code",
   "execution_count": 1,
   "metadata": {},
   "outputs": [],
   "source": [
    "import pandas as pd\n",
    "import matplotlib.pyplot as plt\n",
    "from matplotlib.pyplot import figure\n",
    "import seaborn as sns\n",
    "import numpy as np"
   ]
  },
  {
   "cell_type": "markdown",
   "metadata": {},
   "source": [
    "## Import data"
   ]
  },
  {
   "cell_type": "code",
   "execution_count": 2,
   "metadata": {},
   "outputs": [],
   "source": [
    "cities = pd.read_csv(\"data/cities.csv\")\n",
    "factors = pd.read_csv(\"data/factors.csv\")\n",
    "orders = pd.read_csv(\"data/orders.csv\")\n",
    "packages = pd.read_csv(\"data/packages.csv\")\n",
    "pricing = pd.read_csv(\"data/pricing.csv\")\n",
    "routes = pd.read_csv(\"data/routes_v2.csv\")\n",
    "trucks = pd.read_csv(\"data/trucks.csv\")\n",
    "warehouses = pd.read_csv(\"data/warehouses.csv\")"
   ]
  },
  {
   "cell_type": "markdown",
   "metadata": {},
   "source": [
    "#### 1- Cleaning routes"
   ]
  },
  {
   "cell_type": "code",
   "execution_count": 3,
   "metadata": {},
   "outputs": [
    {
     "data": {
      "text/html": [
       "<div>\n",
       "<style scoped>\n",
       "    .dataframe tbody tr th:only-of-type {\n",
       "        vertical-align: middle;\n",
       "    }\n",
       "\n",
       "    .dataframe tbody tr th {\n",
       "        vertical-align: top;\n",
       "    }\n",
       "\n",
       "    .dataframe thead th {\n",
       "        text-align: right;\n",
       "    }\n",
       "</style>\n",
       "<table border=\"1\" class=\"dataframe\">\n",
       "  <thead>\n",
       "    <tr style=\"text-align: right;\">\n",
       "      <th></th>\n",
       "      <th>truck_id</th>\n",
       "      <th>duration</th>\n",
       "      <th>fill_volume</th>\n",
       "      <th>n_units</th>\n",
       "      <th>orders</th>\n",
       "      <th>from_warehouse</th>\n",
       "      <th>route_date</th>\n",
       "      <th>stops</th>\n",
       "      <th>total_distance</th>\n",
       "    </tr>\n",
       "  </thead>\n",
       "  <tbody>\n",
       "    <tr>\n",
       "      <th>0</th>\n",
       "      <td>jehwGBpNg2rDLeKoYeiaLs</td>\n",
       "      <td>2.167136</td>\n",
       "      <td>5.9879</td>\n",
       "      <td>87.0</td>\n",
       "      <td>[nK4iPf8nrGA9yivRH66ehS, jnsH9ndQ3UKcWSbb2UMkFn]</td>\n",
       "      <td>Clermont-Ferrand</td>\n",
       "      <td>2021-01-02</td>\n",
       "      <td>[Clermont-Ferrand, Bourges]</td>\n",
       "      <td>153.950611</td>\n",
       "    </tr>\n",
       "  </tbody>\n",
       "</table>\n",
       "</div>"
      ],
      "text/plain": [
       "                 truck_id  duration  fill_volume  n_units  \\\n",
       "0  jehwGBpNg2rDLeKoYeiaLs  2.167136       5.9879     87.0   \n",
       "\n",
       "                                             orders    from_warehouse  \\\n",
       "0  [nK4iPf8nrGA9yivRH66ehS, jnsH9ndQ3UKcWSbb2UMkFn]  Clermont-Ferrand   \n",
       "\n",
       "   route_date                        stops  total_distance  \n",
       "0  2021-01-02  [Clermont-Ferrand, Bourges]      153.950611  "
      ]
     },
     "execution_count": 3,
     "metadata": {},
     "output_type": "execute_result"
    }
   ],
   "source": [
    "routes_cleaned = routes.copy()\n",
    "routes_cleaned.stops = routes.apply(lambda x: x.stops.split(' > '), axis=1)\n",
    "routes_cleaned.orders = routes.apply(lambda x: x.orders.split(' > '), axis=1)\n",
    "routes_cleaned.head(1)"
   ]
  },
  {
   "cell_type": "code",
   "execution_count": 4,
   "metadata": {},
   "outputs": [],
   "source": [
    "packages_cleaned = packages.copy()\n",
    "\n",
    "#On commence par corriger la valeur du package de volume buggé\n",
    "packages_cleaned.loc[packages_cleaned['package_id']=='aBCDNfWx5TAkxbTTmQJEE4','package_volume'] = 0.1138\n",
    "\n",
    "#On corrige tous les prix pour les accorder au pricing selon le volume - tient compte des missing values en price\n",
    "packages_cleaned['threshold'] = packages_cleaned.apply(lambda x: min(pricing.max_volume.values, key=lambda y:max(0,x.package_volume-y)) ,axis=1)\n",
    "\n",
    "packages_cleaned = pd.merge(packages_cleaned,pricing[['max_volume','pricing']], left_on='threshold', right_on='max_volume')\n",
    "packages_cleaned.loc[packages_cleaned['package_revenues']!=packages_cleaned['pricing'],'package_revenues'] = packages_cleaned['pricing']\n",
    "\n",
    "#On ne garde que les colonnes pertinentes\n",
    "packages_cleaned = packages_cleaned[packages.columns]"
   ]
  },
  {
   "cell_type": "markdown",
   "metadata": {},
   "source": [
    "## Questions répondues par la data:"
   ]
  },
  {
   "cell_type": "markdown",
   "metadata": {},
   "source": [
    "#### 2-Les routes les plus empruntées"
   ]
  },
  {
   "cell_type": "code",
   "execution_count": 5,
   "metadata": {},
   "outputs": [],
   "source": [
    "used_tracks = []\n",
    "for i in range(len(routes_cleaned)):\n",
    "    for j in range(len(routes_cleaned.stops[i])-1):\n",
    "        used_tracks += [[routes_cleaned.stops[i][j] + ' - ' + routes_cleaned.stops[i][j+1],\n",
    "                         routes_cleaned.stops[i][j],\n",
    "                         routes_cleaned.stops[i][j+1],\n",
    "                         routes_cleaned.route_date[i],\n",
    "                        routes_cleaned.from_warehouse[i]]]\n",
    "used_tracks = (pd.DataFrame(used_tracks,columns=['routes','start','stop','date', 'from_warehouse']))"
   ]
  },
  {
   "cell_type": "markdown",
   "metadata": {},
   "source": [
    "# Daily analysis"
   ]
  },
  {
   "cell_type": "code",
   "execution_count": 6,
   "metadata": {},
   "outputs": [],
   "source": [
    "# daily analysis\n",
    "# we chose to study the day with the highest volume of packages to deliver"
   ]
  },
  {
   "cell_type": "code",
   "execution_count": 7,
   "metadata": {},
   "outputs": [],
   "source": [
    "routes_used_per_day = (used_tracks\n",
    "                       .groupby(['routes','date','start','stop', 'from_warehouse'])\n",
    "                       .agg({'routes':'count'})\n",
    "                       .rename(columns={'routes':'nb_routes'})\n",
    "                       .sort_values(\"nb_routes\"))\n",
    "\n",
    "routes_used_per_day = routes_used_per_day.reset_index()"
   ]
  },
  {
   "cell_type": "code",
   "execution_count": 8,
   "metadata": {},
   "outputs": [],
   "source": [
    "# first we draw the France on one day to see if we can improve our transportation netwok on a daily basis"
   ]
  },
  {
   "cell_type": "code",
   "execution_count": 9,
   "metadata": {},
   "outputs": [],
   "source": [
    "day_routes = routes_used_per_day[routes_used_per_day['date']=='2021-05-10']"
   ]
  },
  {
   "cell_type": "code",
   "execution_count": 10,
   "metadata": {},
   "outputs": [],
   "source": [
    "routes_used_day = (day_routes\n",
    "               .groupby(['routes','start','stop', 'from_warehouse'])\n",
    "               .agg({'routes':'count'})\n",
    "               .rename(columns={'routes':'nb_routes'})\n",
    "               .sort_values(\"nb_routes\"))\n",
    "\n",
    "routes_used_day = pd.merge(routes_used_day.reset_index(), cities[['city','lat','lng']], \n",
    "                       left_on='start',right_on='city')\n",
    "\n",
    "routes_used_day = (routes_used_day\n",
    "               .rename(columns={'lat':'lat_start','lng':'lng_start'})\n",
    "               .drop(columns=['city']))\n",
    "\n",
    "routes_used_day = pd.merge(routes_used_day.reset_index(), cities[['city','lat','lng']], \n",
    "                       left_on='stop',right_on='city')\n",
    "\n",
    "routes_used_day = (routes_used_day\n",
    "               .rename(columns={'lat':'lat_stop','lng':'lng_stop'})\n",
    "               .drop(columns=['city']))"
   ]
  },
  {
   "cell_type": "markdown",
   "metadata": {},
   "source": [
    "# OPTIMIZER"
   ]
  },
  {
   "cell_type": "code",
   "execution_count": 11,
   "metadata": {},
   "outputs": [],
   "source": [
    "# building the dataframes on the chosen date \n",
    "routes_used_per_day = (used_tracks\n",
    "                       .groupby(['routes','date','start','stop', 'from_warehouse'])\n",
    "                       .agg({'routes':'count'})\n",
    "                       .rename(columns={'routes':'nb_routes'})\n",
    "                       .sort_values(\"nb_routes\"))\n",
    "\n",
    "routes_used_per_day = routes_used_per_day.reset_index()"
   ]
  },
  {
   "cell_type": "code",
   "execution_count": 12,
   "metadata": {},
   "outputs": [],
   "source": [
    "day_routes = routes_used_per_day[routes_used_per_day['date']=='2021-05-10']"
   ]
  },
  {
   "cell_type": "code",
   "execution_count": 13,
   "metadata": {},
   "outputs": [],
   "source": [
    "routes_used_day = (day_routes\n",
    "               .groupby(['routes','start','stop', 'from_warehouse'])\n",
    "               .agg({'routes':'count'})\n",
    "               .rename(columns={'routes':'nb_routes'})\n",
    "               .sort_values(\"nb_routes\"))\n",
    "\n",
    "routes_used_day = pd.merge(routes_used_day.reset_index(), cities[['city','lat','lng']], \n",
    "                       left_on='start',right_on='city')\n",
    "\n",
    "routes_used_day = (routes_used_day\n",
    "               .rename(columns={'lat':'lat_start','lng':'lng_start'})\n",
    "               .drop(columns=['city']))\n",
    "\n",
    "routes_used_day = pd.merge(routes_used_day.reset_index(), cities[['city','lat','lng']], \n",
    "                       left_on='stop',right_on='city')\n",
    "\n",
    "routes_used_day = (routes_used_day\n",
    "               .rename(columns={'lat':'lat_stop','lng':'lng_stop'})\n",
    "               .drop(columns=['city']))"
   ]
  },
  {
   "cell_type": "code",
   "execution_count": 14,
   "metadata": {},
   "outputs": [],
   "source": [
    "pck_volume_per_city = orders[orders['delivered_date']=='2021-05-10 00:00:00'].groupby('delivery_location').aggregate({'order_total_volume':'sum'}).sort_values('order_total_volume',ascending=False)\n",
    "pck_volume_per_city = pd.merge(cities,pck_volume_per_city, left_on='city', right_index=True)\n",
    "\n",
    "pck_volume_per_city['text'] = pck_volume_per_city['city'] + ', ' + 'total_order_volume: ' + round(pck_volume_per_city['order_total_volume']).astype(str)"
   ]
  },
  {
   "cell_type": "code",
   "execution_count": 15,
   "metadata": {},
   "outputs": [],
   "source": [
    "# optimize roads on a daily basis\n",
    "# we optimize for example the Cergy delivery network"
   ]
  },
  {
   "cell_type": "code",
   "execution_count": 16,
   "metadata": {},
   "outputs": [],
   "source": [
    "cergy_routes = routes_used_day[routes_used_day['from_warehouse']=='Montauban']"
   ]
  },
  {
   "cell_type": "code",
   "execution_count": 17,
   "metadata": {},
   "outputs": [],
   "source": [
    "pck_volume_per_city = orders[(orders['delivered_date']=='2021-05-10 00:00:00') & (orders['from_warehouse']=='Montauban')].groupby('delivery_location').aggregate({'order_total_volume':'sum'}).sort_values('order_total_volume',ascending=False)\n",
    "pck_volume_per_city = pd.merge(cities,pck_volume_per_city, left_on='city', right_index=True)\n",
    "\n",
    "pck_volume_per_city['text'] = pck_volume_per_city['city'] + ', ' + 'Package_Volume: ' + round(pck_volume_per_city['order_total_volume']).astype(str)"
   ]
  },
  {
   "cell_type": "code",
   "execution_count": 18,
   "metadata": {},
   "outputs": [],
   "source": [
    "# what is our location and demand of each customer ?\n",
    "demand_and_location=pd.DataFrame()\n",
    "\n",
    "demand_and_location['latitude'] = pck_volume_per_city['lat']\n",
    "demand_and_location['longitude'] = pck_volume_per_city['lng']\n",
    "demand_and_location['demand'] = pck_volume_per_city['order_total_volume']\n",
    "demand_and_location['city'] = pck_volume_per_city['city']"
   ]
  },
  {
   "cell_type": "code",
   "execution_count": 19,
   "metadata": {},
   "outputs": [],
   "source": [
    "loca = warehouses.rename(columns={'warehouse_city':'city'}).merge(cities[['city', 'lat', 'lng']], on=['city'], how='left')"
   ]
  },
  {
   "cell_type": "code",
   "execution_count": 20,
   "metadata": {},
   "outputs": [],
   "source": [
    "# set the depot as the center and make demand 0 ('0' = depot)\n",
    "demand_and_location.loc[demand_and_location['city']=='Montauban', 'latitude'] = loca[loca['city']=='Montauban']['lat'].values\n",
    "demand_and_location.loc[demand_and_location['city']=='Montauban', 'longitude'] = loca[loca['city']=='Montauban']['lng'].values\n",
    "demand_and_location.loc[demand_and_location['city']=='Montauban','demand'] = 0"
   ]
  },
  {
   "cell_type": "code",
   "execution_count": 21,
   "metadata": {},
   "outputs": [],
   "source": [
    "demand_and_location = demand_and_location.sort_values(by='demand', ascending=True)"
   ]
  },
  {
   "cell_type": "code",
   "execution_count": 22,
   "metadata": {},
   "outputs": [],
   "source": [
    "demand_and_location = demand_and_location.reset_index()\n",
    "\n",
    "del demand_and_location['index']"
   ]
  },
  {
   "cell_type": "code",
   "execution_count": 23,
   "metadata": {},
   "outputs": [],
   "source": [
    "from math import radians, sin, cos, asin, acos, sqrt"
   ]
  },
  {
   "cell_type": "code",
   "execution_count": 24,
   "metadata": {},
   "outputs": [
    {
     "name": "stderr",
     "output_type": "stream",
     "text": [
      "/Users/ariane/anaconda3/lib/python3.6/site-packages/pandas/core/indexing.py:670: SettingWithCopyWarning: \n",
      "A value is trying to be set on a copy of a slice from a DataFrame\n",
      "\n",
      "See the caveats in the documentation: https://pandas.pydata.org/pandas-docs/stable/user_guide/indexing.html#returning-a-view-versus-a-copy\n",
      "  iloc._setitem_with_indexer(indexer, value)\n"
     ]
    }
   ],
   "source": [
    "# distance between two points\n",
    "def distance_Haversine(lat1, lat2, lon1, lon2):\n",
    "\n",
    "    lon1 = radians(lon1)\n",
    "    lon2 = radians(lon2)\n",
    "    lat1 = radians(lat1)\n",
    "    lat2 = radians(lat2)\n",
    "      \n",
    "    # Haversine formula\n",
    "    dlon = lon2 - lon1\n",
    "    dlat = lat2 - lat1\n",
    "    a = sin(dlat / 2)**2 + cos(lat1) * cos(lat2) * sin(dlon / 2)**2\n",
    " \n",
    "    c = 2 * asin(sqrt(a))\n",
    "    \n",
    "    # Radius of earth in kilometers. Use 3956 for miles\n",
    "    r = 6371\n",
    "      \n",
    "    # calculate the result\n",
    "    return(c * r)\n",
    "\n",
    "# function for calculating distance between two pins\n",
    "def _distance_calculator(_df):\n",
    "    \n",
    "    _distance_result = np.zeros((len(_df),len(_df)))\n",
    "    _df['latitude-longitude'] = '0'\n",
    "    for i in range(len(_df)):\n",
    "        _df['latitude-longitude'].iloc[i] = str(_df.latitude[i]) + ',' + str(_df.longitude[i])\n",
    "    \n",
    "    for i in range(len(_df)):\n",
    "        for j in range(len(_df)):\n",
    "\n",
    "            _res = distance_Haversine(_df['latitude'].iloc[i], _df['latitude'].iloc[j], _df['longitude'].iloc[i], _df['longitude'].iloc[j])\n",
    "            \n",
    "            # append distance to result list\n",
    "            _distance_result[i][j] = _res\n",
    "    \n",
    "    return _distance_result\n",
    "\n",
    "\n",
    "\n",
    "distance = _distance_calculator(demand_and_location)"
   ]
  },
  {
   "cell_type": "code",
   "execution_count": 25,
   "metadata": {},
   "outputs": [
    {
     "name": "stderr",
     "output_type": "stream",
     "text": [
      "/Users/ariane/anaconda3/lib/python3.6/site-packages/pyproj/crs/crs.py:53: FutureWarning: '+init=<authority>:<code>' syntax is deprecated. '<authority>:<code>' is the preferred initialization method. When making the change, be mindful of axis order changes: https://pyproj4.github.io/pyproj/stable/gotchas.html#axis-order-changes-in-proj-6\n",
      "  return _prepare_from_string(\" \".join(pjargs))\n",
      "/Users/ariane/anaconda3/lib/python3.6/site-packages/pyproj/crs/crs.py:294: FutureWarning: '+init=<authority>:<code>' syntax is deprecated. '<authority>:<code>' is the preferred initialization method. When making the change, be mindful of axis order changes: https://pyproj4.github.io/pyproj/stable/gotchas.html#axis-order-changes-in-proj-6\n",
      "  projstring = _prepare_from_string(\" \".join((projstring, projkwargs)))\n",
      "/Users/ariane/anaconda3/lib/python3.6/site-packages/pyproj/crs/crs.py:53: FutureWarning: '+init=<authority>:<code>' syntax is deprecated. '<authority>:<code>' is the preferred initialization method. When making the change, be mindful of axis order changes: https://pyproj4.github.io/pyproj/stable/gotchas.html#axis-order-changes-in-proj-6\n",
      "  return _prepare_from_string(\" \".join(pjargs))\n",
      "/Users/ariane/anaconda3/lib/python3.6/site-packages/pyproj/crs/crs.py:294: FutureWarning: '+init=<authority>:<code>' syntax is deprecated. '<authority>:<code>' is the preferred initialization method. When making the change, be mindful of axis order changes: https://pyproj4.github.io/pyproj/stable/gotchas.html#axis-order-changes-in-proj-6\n",
      "  projstring = _prepare_from_string(\" \".join((projstring, projkwargs)))\n"
     ]
    }
   ],
   "source": [
    "import pyproj as proj\n",
    "\n",
    "# setup your projections\n",
    "crs_wgs = proj.Proj(init='epsg:4326') # assuming you're using WGS84 geographic\n",
    "crs_bng = proj.Proj(init='epsg:27700') # use a locally appropriate projected CRS"
   ]
  },
  {
   "cell_type": "code",
   "execution_count": 26,
   "metadata": {},
   "outputs": [
    {
     "name": "stderr",
     "output_type": "stream",
     "text": [
      "/Users/ariane/anaconda3/lib/python3.6/site-packages/ipykernel_launcher.py:16: DeprecationWarning: This function is deprecated. See: https://pyproj4.github.io/pyproj/stable/gotchas.html#upgrading-to-pyproj-2-from-pyproj-1\n",
      "  app.launch_new_instance()\n",
      "/Users/ariane/anaconda3/lib/python3.6/site-packages/ipykernel_launcher.py:18: DeprecationWarning: This function is deprecated. See: https://pyproj4.github.io/pyproj/stable/gotchas.html#upgrading-to-pyproj-2-from-pyproj-1\n",
      "/Users/ariane/anaconda3/lib/python3.6/site-packages/ipykernel_launcher.py:21: DeprecationWarning: This function is deprecated. See: https://pyproj4.github.io/pyproj/stable/gotchas.html#upgrading-to-pyproj-2-from-pyproj-1\n",
      "/Users/ariane/anaconda3/lib/python3.6/site-packages/ipykernel_launcher.py:22: DeprecationWarning: This function is deprecated. See: https://pyproj4.github.io/pyproj/stable/gotchas.html#upgrading-to-pyproj-2-from-pyproj-1\n"
     ]
    }
   ],
   "source": [
    "#Importing the package numpy as np.\n",
    "import numpy as np\n",
    "\n",
    "# Number of customers.\n",
    "n = len(demand_and_location) - 1\n",
    "\n",
    "#The set of nodes without the depot.\n",
    "N = [i for i in range(1,n+1)]\n",
    "# The set of nodes + the depot.\n",
    "V = [0]+ N\n",
    "# A collection that contains the demand of each node.\n",
    "d ={i:demand_and_location.demand[i] for i in N}\n",
    "\n",
    "\n",
    "# Generating random numbers between (0 and 15) * 200.\n",
    "loc_x = [proj.transform(crs_wgs, crs_bng,demand_and_location.longitude[i], demand_and_location.latitude[i])[0] for i in N]\n",
    "# Generating random numbers between (0 and 15) * 100.\n",
    "loc_y = [proj.transform(crs_wgs, crs_bng,demand_and_location.longitude[i], demand_and_location.latitude[i])[1] for i in N]\n",
    "\n",
    "\n",
    "loc_x = [proj.transform(crs_wgs, crs_bng,demand_and_location.longitude[0], demand_and_location.latitude[0])[0]] + loc_x\n",
    "loc_y = [proj.transform(crs_wgs, crs_bng,demand_and_location.longitude[0], demand_and_location.latitude[0])[1]] + loc_y"
   ]
  },
  {
   "cell_type": "code",
   "execution_count": 27,
   "metadata": {},
   "outputs": [],
   "source": [
    "dict_mapping = {demand_and_location['city'][i]: demand_and_location.index[i] for i in range(len(demand_and_location))}"
   ]
  },
  {
   "cell_type": "code",
   "execution_count": 28,
   "metadata": {},
   "outputs": [
    {
     "name": "stderr",
     "output_type": "stream",
     "text": [
      "/Users/ariane/anaconda3/lib/python3.6/site-packages/ipykernel_launcher.py:3: SettingWithCopyWarning: \n",
      "A value is trying to be set on a copy of a slice from a DataFrame.\n",
      "Try using .loc[row_indexer,col_indexer] = value instead\n",
      "\n",
      "See the caveats in the documentation: https://pandas.pydata.org/pandas-docs/stable/user_guide/indexing.html#returning-a-view-versus-a-copy\n",
      "  This is separate from the ipykernel package so we can avoid doing imports until\n",
      "/Users/ariane/anaconda3/lib/python3.6/site-packages/ipykernel_launcher.py:4: SettingWithCopyWarning: \n",
      "A value is trying to be set on a copy of a slice from a DataFrame.\n",
      "Try using .loc[row_indexer,col_indexer] = value instead\n",
      "\n",
      "See the caveats in the documentation: https://pandas.pydata.org/pandas-docs/stable/user_guide/indexing.html#returning-a-view-versus-a-copy\n",
      "  after removing the cwd from sys.path.\n"
     ]
    }
   ],
   "source": [
    "edges_cergy_day = cergy_routes[['start', 'stop']]\n",
    "\n",
    "edges_cergy_day['start'] = edges_cergy_day['start'].map(dict_mapping)\n",
    "edges_cergy_day['stop'] = edges_cergy_day['stop'].map(dict_mapping)"
   ]
  },
  {
   "cell_type": "code",
   "execution_count": 29,
   "metadata": {},
   "outputs": [],
   "source": [
    "width_cergy_day = cergy_routes['nb_routes'].tolist()\n",
    "edges_cergy = edges_cergy_day.values"
   ]
  },
  {
   "cell_type": "code",
   "execution_count": 30,
   "metadata": {},
   "outputs": [
    {
     "data": {
      "image/png": "[encoded data removed]",
      "text/plain": [
       "<Figure size 432x288 with 1 Axes>"
      ]
     },
     "metadata": {
      "needs_background": "light"
     },
     "output_type": "display_data"
    }
   ],
   "source": [
    "for item in edges_cergy :\n",
    "  #Coloring the active arcs\n",
    "  plt.plot([loc_x[item[0]],loc_x[item[1]]],[loc_y[item[0]],loc_y[item[1]]],c='g',alpha=0.3)\n",
    "\n",
    "plt.plot(loc_x[0],loc_y[0],c='r' ,marker='s')\n",
    "plt.scatter(loc_x[1:],loc_y[1:],c='b')\n",
    "\n",
    "\n",
    "plt.title(\"Actual daily routes from Montauban\", size=20)\n",
    "plt.ylabel(\"y\", size=15)\n",
    "plt.xlabel(\"x\", size=15)\n",
    "\n",
    "\n",
    "plt.show()"
   ]
  },
  {
   "cell_type": "code",
   "execution_count": 31,
   "metadata": {},
   "outputs": [],
   "source": [
    "# pip install ortools"
   ]
  },
  {
   "cell_type": "code",
   "execution_count": 32,
   "metadata": {},
   "outputs": [],
   "source": [
    "A = [(i,j) for i in V for j in V if i!=j]\n",
    "#Calculating the distance between each node.\n",
    "c= {(i,j):np.hypot(loc_x[i]-loc_x[j],loc_y[i]-loc_y[j]) for i,j in A}\n",
    "\n",
    "\n",
    "distance_matrixx = [[0]*len(demand_and_location)]*len(demand_and_location)\n",
    "\n",
    "\n",
    "for key in c.keys():\n",
    "    distance_matrixx[key[0]][key[1]]=c[key]"
   ]
  },
  {
   "cell_type": "code",
   "execution_count": 33,
   "metadata": {},
   "outputs": [
    {
     "name": "stdout",
     "output_type": "stream",
     "text": [
      "----------****---------\n"
     ]
    }
   ],
   "source": [
    "# [START program]\n",
    "\"\"\"Capacited Vehicles Routing Problem (CVRP).\"\"\"\n",
    "\n",
    "# [START import]\n",
    "from ortools.constraint_solver import routing_enums_pb2\n",
    "from ortools.constraint_solver import pywrapcp\n",
    "# [END import]\n",
    "\n",
    "\n",
    "# [START data_model]\n",
    "def create_data_model():\n",
    "    \"\"\"Stores the data for the problem.\"\"\"\n",
    "    data = {}\n",
    "    data['distance_matrix'] = distance_matrixx[0:42][0:42]\n",
    "    # [START demands_capacities]\n",
    "    data['demands'] = demand_and_location.demand.astype(int).tolist()[0:42]\n",
    "    data['vehicle_capacities'] = [128]*40\n",
    "    # [END demands_capacities]\n",
    "    data['num_vehicles'] = 40\n",
    "    data['depot'] = 0\n",
    "    return data\n",
    "    # [END data_model]\n",
    "\n",
    "\n",
    "# [START solution_printer]\n",
    "def print_solution(data, manager, routing, solution):\n",
    "    \"\"\"Prints solution on console.\"\"\"\n",
    "#     print(f'Objective: {solution.ObjectiveValue()}')\n",
    "    total_distance = 0\n",
    "    total_load = 0\n",
    "    for vehicle_id in range(data['num_vehicles']):\n",
    "        index = routing.Start(vehicle_id)\n",
    "        plan_output = 'Route for vehicle {}:\\n'.format(vehicle_id)\n",
    "        route_distance = 0\n",
    "        route_load = 0\n",
    "        while not routing.IsEnd(index):\n",
    "            node_index = manager.IndexToNode(index)\n",
    "            route_load += data['demands'][node_index]\n",
    "            plan_output += ' {0} Load({1}) -> '.format(node_index, route_load)\n",
    "            previous_index = index\n",
    "            index = solution.Value(routing.NextVar(index))\n",
    "            route_distance += routing.GetArcCostForVehicle(\n",
    "                previous_index, index, vehicle_id)\n",
    "        plan_output += ' {0} Load({1})\\n'.format(manager.IndexToNode(index),\n",
    "                                                 route_load)\n",
    "        plan_output += 'Distance of the route: {}m\\n'.format(route_distance)\n",
    "        plan_output += 'Load of the route: {}\\n'.format(route_load)\n",
    "#         print(plan_output)\n",
    "        total_distance += route_distance\n",
    "        total_load += route_load\n",
    "#     print('Total distance of all routes: {}m'.format(total_distance))\n",
    "#     print('Total load of all routes: {}'.format(total_load))\n",
    "    return total_distance\n",
    "    # [END solution_printer]\n",
    "\n",
    "def get_edges(data, manager, routing, solution):\n",
    "    \"\"\"Prints solution on console.\"\"\"\n",
    "\n",
    "    route_vehicles = [[0]]*40\n",
    "\n",
    "    for vehicle_id in range(data['num_vehicles']):\n",
    "\n",
    "        index = routing.Start(vehicle_id)\n",
    "        route_distance = 0\n",
    "        route_load = 0\n",
    "        while not routing.IsEnd(index):\n",
    "            node_index = manager.IndexToNode(index)\n",
    "            if node_index!=0:\n",
    "                route_vehicles[vehicle_id] = route_vehicles[vehicle_id] + [node_index]\n",
    "            \n",
    "            previous_index = index\n",
    "            index = solution.Value(routing.NextVar(index))           \n",
    "\n",
    "        manager.IndexToNode(index)\n",
    "        \n",
    "    return route_vehicles\n",
    "\n",
    "def main():\n",
    "    \"\"\"Solve the CVRP problem.\"\"\"\n",
    "    # Instantiate the data problem.\n",
    "    # [START data]\n",
    "    data = create_data_model()\n",
    "    # [END data]\n",
    "\n",
    "    # Create the routing index manager.\n",
    "    # [START index_manager]\n",
    "    manager = pywrapcp.RoutingIndexManager(len(data['distance_matrix']),\n",
    "                                           data['num_vehicles'], data['depot'])\n",
    "    # [END index_manager]\n",
    "\n",
    "    # Create Routing Model.\n",
    "    # [START routing_model]\n",
    "    routing = pywrapcp.RoutingModel(manager)\n",
    "\n",
    "    # [END routing_model]\n",
    "\n",
    "    # Create and register a transit callback.\n",
    "    # [START transit_callback]\n",
    "    def distance_callback(from_index, to_index):\n",
    "        \"\"\"Returns the distance between the two nodes.\"\"\"\n",
    "        # Convert from routing variable Index to distance matrix NodeIndex.\n",
    "        from_node = manager.IndexToNode(from_index)\n",
    "        to_node = manager.IndexToNode(to_index)\n",
    "        return data['distance_matrix'][from_node][to_node]\n",
    "\n",
    "    transit_callback_index = routing.RegisterTransitCallback(distance_callback)\n",
    "    # [END transit_callback]\n",
    "\n",
    "    # Define cost of each arc.\n",
    "    # [START arc_cost]\n",
    "    routing.SetArcCostEvaluatorOfAllVehicles(transit_callback_index)\n",
    "\n",
    "    # [END arc_cost]\n",
    "\n",
    "    # Add Capacity constraint.\n",
    "    # [START capacity_constraint]\n",
    "    def demand_callback(from_index):\n",
    "        \"\"\"Returns the demand of the node.\"\"\"\n",
    "        # Convert from routing variable Index to demands NodeIndex.\n",
    "        from_node = manager.IndexToNode(from_index)\n",
    "        return data['demands'][from_node]\n",
    "\n",
    "    demand_callback_index = routing.RegisterUnaryTransitCallback(\n",
    "        demand_callback)\n",
    "    routing.AddDimensionWithVehicleCapacity(\n",
    "        demand_callback_index,\n",
    "        0,  # null capacity slack\n",
    "        data['vehicle_capacities'],  # vehicle maximum capacities\n",
    "        True,  # start cumul to zero\n",
    "        'Capacity')\n",
    "    # [END capacity_constraint]\n",
    "\n",
    "    # Setting first solution heuristic.\n",
    "    # [START parameters]\n",
    "    search_parameters = pywrapcp.DefaultRoutingSearchParameters()\n",
    "    search_parameters.first_solution_strategy = (\n",
    "        routing_enums_pb2.FirstSolutionStrategy.PATH_CHEAPEST_ARC)\n",
    "    search_parameters.local_search_metaheuristic = (\n",
    "        routing_enums_pb2.LocalSearchMetaheuristic.GUIDED_LOCAL_SEARCH)\n",
    "    search_parameters.time_limit.FromSeconds(1)\n",
    "    # [END parameters]\n",
    "\n",
    "    # Solve the problem.\n",
    "    # [START solve]\n",
    "    solution = routing.SolveWithParameters(search_parameters)\n",
    "    # [END solve]\n",
    "\n",
    "    # Print solution on console.\n",
    "    \n",
    "    # [START print_solution]\n",
    "    if solution:\n",
    "\n",
    "        total_distance = print_solution(data, manager, routing, solution)\n",
    "        \n",
    "        print('----------****---------')\n",
    "        \n",
    "        resul = get_edges(data, manager, routing, solution)\n",
    "        \n",
    "        return resul,total_distance\n",
    "    else :\n",
    "        print('bugged')\n",
    "    # [END print_solution]\n",
    "\n",
    "\n",
    "if __name__ == '__main__':\n",
    "    resul, total_distance = main()\n",
    "# [END program]"
   ]
  },
  {
   "cell_type": "code",
   "execution_count": 34,
   "metadata": {},
   "outputs": [],
   "source": [
    "def getting_opt_edges(resul):\n",
    "    # getting the optimal edges\n",
    "    opt_edges_cergy = []\n",
    "    for item in resul:\n",
    "        if len(item)>1:\n",
    "            for k in range(len(item)-1):\n",
    "                opt_edges_cergy+= [(item[k],item[k+1])]\n",
    "    \n",
    "    return opt_edges_cergy"
   ]
  },
  {
   "cell_type": "code",
   "execution_count": 35,
   "metadata": {},
   "outputs": [
    {
     "data": {
      "text/plain": [
       "2920286"
      ]
     },
     "execution_count": 35,
     "metadata": {},
     "output_type": "execute_result"
    }
   ],
   "source": [
    "opt_edges = getting_opt_edges(resul)\n",
    "total_distance"
   ]
  },
  {
   "cell_type": "code",
   "execution_count": 36,
   "metadata": {
    "scrolled": true
   },
   "outputs": [
    {
     "data": {
      "image/png": "[encoded data removed]",
      "text/plain": [
       "<Figure size 432x288 with 1 Axes>"
      ]
     },
     "metadata": {
      "needs_background": "light"
     },
     "output_type": "display_data"
    }
   ],
   "source": [
    "small_loc_x = loc_x[0:42]\n",
    "small_loc_y = loc_y[0:42]\n",
    "\n",
    "for item in opt_edges :\n",
    "  #Coloring the active arcs\n",
    "  plt.plot([loc_x[item[0]],loc_x[item[1]]],[loc_y[item[0]],loc_y[item[1]]],c='g',alpha=0.3)\n",
    "\n",
    "plt.plot(loc_x[0],loc_y[0],c='r' ,marker='s')\n",
    "plt.scatter(small_loc_x[1:],small_loc_y[1:],c='b')\n",
    "\n",
    "plt.title(\"Optimized daily routes from Montauban\", size=20)\n",
    "plt.ylabel(\"y\", size=15)\n",
    "plt.xlabel(\"x\", size=15)\n",
    "\n",
    "\n",
    "plt.show()"
   ]
  },
  {
   "cell_type": "code",
   "execution_count": 37,
   "metadata": {},
   "outputs": [
    {
     "data": {
      "image/png": "[encoded data removed]",
      "text/plain": [
       "<Figure size 432x288 with 1 Axes>"
      ]
     },
     "metadata": {
      "needs_background": "light"
     },
     "output_type": "display_data"
    }
   ],
   "source": [
    "for item in edges_cergy :\n",
    "  #Coloring the active arcs\n",
    "  plt.plot([loc_x[item[0]],loc_x[item[1]]],[loc_y[item[0]],loc_y[item[1]]],c='g',alpha=0.3)\n",
    "\n",
    "plt.plot(loc_x[0],loc_y[0],c='r' ,marker='s')\n",
    "plt.title(\"Actual daily routes from Montauban\", size=20)\n",
    "plt.ylabel(\"y\", size=15)\n",
    "plt.xlabel(\"x\", size=15)\n",
    "\n",
    "plt.scatter(loc_x[1:],loc_y[1:],c='b')\n",
    "\n",
    "\n",
    "plt.show()"
   ]
  }
 ],
 "metadata": {
  "kernelspec": {
   "display_name": "Python 3",
   "language": "python",
   "name": "python3"
  },
  "language_info": {
   "codemirror_mode": {
    "name": "ipython",
    "version": 3
   },
   "file_extension": ".py",
   "mimetype": "text/x-python",
   "name": "python",
   "nbconvert_exporter": "python",
   "pygments_lexer": "ipython3",
   "version": "3.6.3"
  }
 },
 "nbformat": 4,
 "nbformat_minor": 2
}
